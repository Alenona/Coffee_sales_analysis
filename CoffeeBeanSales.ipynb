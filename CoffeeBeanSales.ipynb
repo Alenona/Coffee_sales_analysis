{
 "cells": [
  {
   "cell_type": "markdown",
   "id": "99115ec1-caab-46c1-9df9-a7fb7cbd13f8",
   "metadata": {},
   "source": [
    "Импортируем нужные библиотеки и загружаем датасет."
   ]
  },
  {
   "cell_type": "code",
   "execution_count": 64,
   "id": "231fd94f-454d-4ec6-83be-7890ede4ffed",
   "metadata": {},
   "outputs": [],
   "source": [
    "import pandas as pd\n",
    "import numpy as np\n",
    "import matplotlib.pyplot as plt\n",
    "import seaborn as sns"
   ]
  },
  {
   "cell_type": "code",
   "execution_count": 65,
   "id": "6b69204c-0603-412e-adeb-366233d1ee28",
   "metadata": {},
   "outputs": [],
   "source": [
    "sns.set_style(\"whitegrid\") \n",
    "sns.set_context(\"notebook\", font_scale=1.2)"
   ]
  },
  {
   "cell_type": "code",
   "execution_count": 66,
   "id": "a29f7f25-1c3f-4d34-862c-30371df7bb3d",
   "metadata": {},
   "outputs": [],
   "source": [
    "all_data = pd.read_excel('Raw Data.xlsx', sheet_name=None)"
   ]
  },
  {
   "cell_type": "code",
   "execution_count": 67,
   "id": "230f255b-3f82-4c98-bfdc-02f551bb7c24",
   "metadata": {},
   "outputs": [],
   "source": [
    "orders    = all_data['orders']\n",
    "customers = all_data['customers']\n",
    "products  = all_data['products']"
   ]
  },
  {
   "cell_type": "code",
   "execution_count": 68,
   "id": "8ccc49d0-2e82-4011-bae4-927b3457c45f",
   "metadata": {},
   "outputs": [
    {
     "data": {
      "text/html": [
       "<div>\n",
       "<style scoped>\n",
       "    .dataframe tbody tr th:only-of-type {\n",
       "        vertical-align: middle;\n",
       "    }\n",
       "\n",
       "    .dataframe tbody tr th {\n",
       "        vertical-align: top;\n",
       "    }\n",
       "\n",
       "    .dataframe thead th {\n",
       "        text-align: right;\n",
       "    }\n",
       "</style>\n",
       "<table border=\"1\" class=\"dataframe\">\n",
       "  <thead>\n",
       "    <tr style=\"text-align: right;\">\n",
       "      <th></th>\n",
       "      <th>Order ID</th>\n",
       "      <th>Order Date</th>\n",
       "      <th>Customer ID</th>\n",
       "      <th>Product ID</th>\n",
       "      <th>Quantity</th>\n",
       "      <th>Customer Name</th>\n",
       "      <th>Email</th>\n",
       "      <th>Country</th>\n",
       "      <th>Coffee Type</th>\n",
       "      <th>Roast Type</th>\n",
       "      <th>Size</th>\n",
       "      <th>Unit Price</th>\n",
       "      <th>Sales</th>\n",
       "    </tr>\n",
       "  </thead>\n",
       "  <tbody>\n",
       "    <tr>\n",
       "      <th>43</th>\n",
       "      <td>ULR-52653-960</td>\n",
       "      <td>2021-10-04</td>\n",
       "      <td>04152-34436-IE</td>\n",
       "      <td>L-L-2.5</td>\n",
       "      <td>2</td>\n",
       "      <td>NaN</td>\n",
       "      <td>NaN</td>\n",
       "      <td>NaN</td>\n",
       "      <td>NaN</td>\n",
       "      <td>NaN</td>\n",
       "      <td>NaN</td>\n",
       "      <td>NaN</td>\n",
       "      <td>NaN</td>\n",
       "    </tr>\n",
       "    <tr>\n",
       "      <th>32</th>\n",
       "      <td>WOQ-36015-429</td>\n",
       "      <td>2021-09-25</td>\n",
       "      <td>51427-89175-QJ</td>\n",
       "      <td>L-M-0.5</td>\n",
       "      <td>6</td>\n",
       "      <td>NaN</td>\n",
       "      <td>NaN</td>\n",
       "      <td>NaN</td>\n",
       "      <td>NaN</td>\n",
       "      <td>NaN</td>\n",
       "      <td>NaN</td>\n",
       "      <td>NaN</td>\n",
       "      <td>NaN</td>\n",
       "    </tr>\n",
       "    <tr>\n",
       "      <th>340</th>\n",
       "      <td>CGO-79583-871</td>\n",
       "      <td>2019-03-04</td>\n",
       "      <td>37182-54930-XC</td>\n",
       "      <td>E-D-0.5</td>\n",
       "      <td>1</td>\n",
       "      <td>NaN</td>\n",
       "      <td>NaN</td>\n",
       "      <td>NaN</td>\n",
       "      <td>NaN</td>\n",
       "      <td>NaN</td>\n",
       "      <td>NaN</td>\n",
       "      <td>NaN</td>\n",
       "      <td>NaN</td>\n",
       "    </tr>\n",
       "  </tbody>\n",
       "</table>\n",
       "</div>"
      ],
      "text/plain": [
       "          Order ID Order Date     Customer ID Product ID  Quantity  \\\n",
       "43   ULR-52653-960 2021-10-04  04152-34436-IE    L-L-2.5         2   \n",
       "32   WOQ-36015-429 2021-09-25  51427-89175-QJ    L-M-0.5         6   \n",
       "340  CGO-79583-871 2019-03-04  37182-54930-XC    E-D-0.5         1   \n",
       "\n",
       "     Customer Name  Email  Country  Coffee Type  Roast Type  Size  Unit Price  \\\n",
       "43             NaN    NaN      NaN          NaN         NaN   NaN         NaN   \n",
       "32             NaN    NaN      NaN          NaN         NaN   NaN         NaN   \n",
       "340            NaN    NaN      NaN          NaN         NaN   NaN         NaN   \n",
       "\n",
       "     Sales  \n",
       "43     NaN  \n",
       "32     NaN  \n",
       "340    NaN  "
      ]
     },
     "execution_count": 68,
     "metadata": {},
     "output_type": "execute_result"
    }
   ],
   "source": [
    "orders.sample(3)"
   ]
  },
  {
   "cell_type": "code",
   "execution_count": 69,
   "id": "bb61b0ae-2d79-4d9e-b74b-f8f4a50e6302",
   "metadata": {},
   "outputs": [
    {
     "data": {
      "text/html": [
       "<div>\n",
       "<style scoped>\n",
       "    .dataframe tbody tr th:only-of-type {\n",
       "        vertical-align: middle;\n",
       "    }\n",
       "\n",
       "    .dataframe tbody tr th {\n",
       "        vertical-align: top;\n",
       "    }\n",
       "\n",
       "    .dataframe thead th {\n",
       "        text-align: right;\n",
       "    }\n",
       "</style>\n",
       "<table border=\"1\" class=\"dataframe\">\n",
       "  <thead>\n",
       "    <tr style=\"text-align: right;\">\n",
       "      <th></th>\n",
       "      <th>Customer ID</th>\n",
       "      <th>Customer Name</th>\n",
       "      <th>Email</th>\n",
       "      <th>Phone Number</th>\n",
       "      <th>Address Line 1</th>\n",
       "      <th>City</th>\n",
       "      <th>Country</th>\n",
       "      <th>Postcode</th>\n",
       "      <th>Loyalty Card</th>\n",
       "    </tr>\n",
       "  </thead>\n",
       "  <tbody>\n",
       "    <tr>\n",
       "      <th>288</th>\n",
       "      <td>17649-28133-PY</td>\n",
       "      <td>Mathew Goulter</td>\n",
       "      <td>NaN</td>\n",
       "      <td>+353 (968) 887-1849</td>\n",
       "      <td>3 Sunfield Terrace</td>\n",
       "      <td>Kinlough</td>\n",
       "      <td>Ireland</td>\n",
       "      <td>F94</td>\n",
       "      <td>Yes</td>\n",
       "    </tr>\n",
       "    <tr>\n",
       "      <th>205</th>\n",
       "      <td>24766-58139-GT</td>\n",
       "      <td>Kendra Glison</td>\n",
       "      <td>NaN</td>\n",
       "      <td>+1 (202) 137-6867</td>\n",
       "      <td>1 Kipling Lane</td>\n",
       "      <td>Washington</td>\n",
       "      <td>United States</td>\n",
       "      <td>20337</td>\n",
       "      <td>Yes</td>\n",
       "    </tr>\n",
       "    <tr>\n",
       "      <th>271</th>\n",
       "      <td>76624-72205-CK</td>\n",
       "      <td>Jasper Sisneros</td>\n",
       "      <td>jsisneros7j@a8.net</td>\n",
       "      <td>+1 (919) 448-8909</td>\n",
       "      <td>38 Dryden Plaza</td>\n",
       "      <td>Raleigh</td>\n",
       "      <td>United States</td>\n",
       "      <td>27635</td>\n",
       "      <td>Yes</td>\n",
       "    </tr>\n",
       "  </tbody>\n",
       "</table>\n",
       "</div>"
      ],
      "text/plain": [
       "        Customer ID    Customer Name               Email         Phone Number  \\\n",
       "288  17649-28133-PY   Mathew Goulter                 NaN  +353 (968) 887-1849   \n",
       "205  24766-58139-GT    Kendra Glison                 NaN    +1 (202) 137-6867   \n",
       "271  76624-72205-CK  Jasper Sisneros  jsisneros7j@a8.net    +1 (919) 448-8909   \n",
       "\n",
       "         Address Line 1        City        Country Postcode Loyalty Card  \n",
       "288  3 Sunfield Terrace    Kinlough        Ireland      F94          Yes  \n",
       "205      1 Kipling Lane  Washington  United States    20337          Yes  \n",
       "271     38 Dryden Plaza     Raleigh  United States    27635          Yes  "
      ]
     },
     "execution_count": 69,
     "metadata": {},
     "output_type": "execute_result"
    }
   ],
   "source": [
    "customers.sample(3)"
   ]
  },
  {
   "cell_type": "code",
   "execution_count": 70,
   "id": "62352c0d-3157-47cb-a5cc-517a0447e59b",
   "metadata": {},
   "outputs": [
    {
     "data": {
      "text/html": [
       "<div>\n",
       "<style scoped>\n",
       "    .dataframe tbody tr th:only-of-type {\n",
       "        vertical-align: middle;\n",
       "    }\n",
       "\n",
       "    .dataframe tbody tr th {\n",
       "        vertical-align: top;\n",
       "    }\n",
       "\n",
       "    .dataframe thead th {\n",
       "        text-align: right;\n",
       "    }\n",
       "</style>\n",
       "<table border=\"1\" class=\"dataframe\">\n",
       "  <thead>\n",
       "    <tr style=\"text-align: right;\">\n",
       "      <th></th>\n",
       "      <th>Product ID</th>\n",
       "      <th>Coffee Type</th>\n",
       "      <th>Roast Type</th>\n",
       "      <th>Size</th>\n",
       "      <th>Unit Price</th>\n",
       "      <th>Price per 100g</th>\n",
       "      <th>Profit</th>\n",
       "    </tr>\n",
       "  </thead>\n",
       "  <tbody>\n",
       "    <tr>\n",
       "      <th>23</th>\n",
       "      <td>R-D-2.5</td>\n",
       "      <td>Rob</td>\n",
       "      <td>D</td>\n",
       "      <td>2.5</td>\n",
       "      <td>20.585</td>\n",
       "      <td>0.8234</td>\n",
       "      <td>1.23510</td>\n",
       "    </tr>\n",
       "    <tr>\n",
       "      <th>24</th>\n",
       "      <td>L-L-0.2</td>\n",
       "      <td>Lib</td>\n",
       "      <td>L</td>\n",
       "      <td>0.2</td>\n",
       "      <td>4.755</td>\n",
       "      <td>2.3775</td>\n",
       "      <td>0.61815</td>\n",
       "    </tr>\n",
       "    <tr>\n",
       "      <th>13</th>\n",
       "      <td>R-L-0.5</td>\n",
       "      <td>Rob</td>\n",
       "      <td>L</td>\n",
       "      <td>0.5</td>\n",
       "      <td>7.170</td>\n",
       "      <td>1.4340</td>\n",
       "      <td>0.43020</td>\n",
       "    </tr>\n",
       "  </tbody>\n",
       "</table>\n",
       "</div>"
      ],
      "text/plain": [
       "   Product ID Coffee Type Roast Type  Size  Unit Price  Price per 100g  \\\n",
       "23    R-D-2.5         Rob          D   2.5      20.585          0.8234   \n",
       "24    L-L-0.2         Lib          L   0.2       4.755          2.3775   \n",
       "13    R-L-0.5         Rob          L   0.5       7.170          1.4340   \n",
       "\n",
       "     Profit  \n",
       "23  1.23510  \n",
       "24  0.61815  \n",
       "13  0.43020  "
      ]
     },
     "execution_count": 70,
     "metadata": {},
     "output_type": "execute_result"
    }
   ],
   "source": [
    "products.sample(3)"
   ]
  },
  {
   "cell_type": "markdown",
   "id": "4e7bde4d-6d2e-4977-9abb-cb89d78d121e",
   "metadata": {},
   "source": [
    "Проверим, есть ли дубликаты, пропущенные значения и какие-либо аномалии в данных."
   ]
  },
  {
   "cell_type": "code",
   "execution_count": 72,
   "id": "e7da40c9-8acd-4944-8109-53ad06cfe88e",
   "metadata": {},
   "outputs": [
    {
     "name": "stdout",
     "output_type": "stream",
     "text": [
      "0 0 0\n"
     ]
    }
   ],
   "source": [
    "print(orders.duplicated().sum(), customers.duplicated().sum(), products.duplicated().sum())"
   ]
  },
  {
   "cell_type": "code",
   "execution_count": 73,
   "id": "92737e13-784f-4b3f-a517-3755a0ee44bb",
   "metadata": {},
   "outputs": [
    {
     "name": "stdout",
     "output_type": "stream",
     "text": [
      "<class 'pandas.core.frame.DataFrame'>\n",
      "RangeIndex: 1000 entries, 0 to 999\n",
      "Data columns (total 13 columns):\n",
      " #   Column         Non-Null Count  Dtype         \n",
      "---  ------         --------------  -----         \n",
      " 0   Order ID       1000 non-null   object        \n",
      " 1   Order Date     1000 non-null   datetime64[ns]\n",
      " 2   Customer ID    1000 non-null   object        \n",
      " 3   Product ID     1000 non-null   object        \n",
      " 4   Quantity       1000 non-null   int64         \n",
      " 5   Customer Name  0 non-null      float64       \n",
      " 6   Email          0 non-null      float64       \n",
      " 7   Country        0 non-null      float64       \n",
      " 8   Coffee Type    0 non-null      float64       \n",
      " 9   Roast Type     0 non-null      float64       \n",
      " 10  Size           0 non-null      float64       \n",
      " 11  Unit Price     0 non-null      float64       \n",
      " 12  Sales          0 non-null      float64       \n",
      "dtypes: datetime64[ns](1), float64(8), int64(1), object(3)\n",
      "memory usage: 101.7+ KB\n"
     ]
    }
   ],
   "source": [
    "orders.info()"
   ]
  },
  {
   "cell_type": "code",
   "execution_count": 74,
   "id": "02fd2d22-4836-4919-b1c4-1e774b83525d",
   "metadata": {},
   "outputs": [
    {
     "name": "stdout",
     "output_type": "stream",
     "text": [
      "<class 'pandas.core.frame.DataFrame'>\n",
      "RangeIndex: 1000 entries, 0 to 999\n",
      "Data columns (total 9 columns):\n",
      " #   Column          Non-Null Count  Dtype \n",
      "---  ------          --------------  ----- \n",
      " 0   Customer ID     1000 non-null   object\n",
      " 1   Customer Name   1000 non-null   object\n",
      " 2   Email           796 non-null    object\n",
      " 3   Phone Number    870 non-null    object\n",
      " 4   Address Line 1  1000 non-null   object\n",
      " 5   City            1000 non-null   object\n",
      " 6   Country         1000 non-null   object\n",
      " 7   Postcode        1000 non-null   object\n",
      " 8   Loyalty Card    1000 non-null   object\n",
      "dtypes: object(9)\n",
      "memory usage: 70.4+ KB\n"
     ]
    }
   ],
   "source": [
    "customers.info()"
   ]
  },
  {
   "cell_type": "code",
   "execution_count": 75,
   "id": "1a52ed27-99f4-40c2-9a54-325bda999c75",
   "metadata": {},
   "outputs": [
    {
     "name": "stdout",
     "output_type": "stream",
     "text": [
      "<class 'pandas.core.frame.DataFrame'>\n",
      "RangeIndex: 48 entries, 0 to 47\n",
      "Data columns (total 7 columns):\n",
      " #   Column          Non-Null Count  Dtype  \n",
      "---  ------          --------------  -----  \n",
      " 0   Product ID      48 non-null     object \n",
      " 1   Coffee Type     48 non-null     object \n",
      " 2   Roast Type      48 non-null     object \n",
      " 3   Size            48 non-null     float64\n",
      " 4   Unit Price      48 non-null     float64\n",
      " 5   Price per 100g  48 non-null     float64\n",
      " 6   Profit          48 non-null     float64\n",
      "dtypes: float64(4), object(3)\n",
      "memory usage: 2.8+ KB\n"
     ]
    }
   ],
   "source": [
    "products.info()"
   ]
  },
  {
   "cell_type": "code",
   "execution_count": 76,
   "id": "15d60770-98c3-40db-a292-3939ca23230e",
   "metadata": {},
   "outputs": [
    {
     "data": {
      "text/html": [
       "<div>\n",
       "<style scoped>\n",
       "    .dataframe tbody tr th:only-of-type {\n",
       "        vertical-align: middle;\n",
       "    }\n",
       "\n",
       "    .dataframe tbody tr th {\n",
       "        vertical-align: top;\n",
       "    }\n",
       "\n",
       "    .dataframe thead th {\n",
       "        text-align: right;\n",
       "    }\n",
       "</style>\n",
       "<table border=\"1\" class=\"dataframe\">\n",
       "  <thead>\n",
       "    <tr style=\"text-align: right;\">\n",
       "      <th></th>\n",
       "      <th>Order Date</th>\n",
       "      <th>Quantity</th>\n",
       "      <th>Customer Name</th>\n",
       "      <th>Email</th>\n",
       "      <th>Country</th>\n",
       "      <th>Coffee Type</th>\n",
       "      <th>Roast Type</th>\n",
       "      <th>Size</th>\n",
       "      <th>Unit Price</th>\n",
       "      <th>Sales</th>\n",
       "    </tr>\n",
       "  </thead>\n",
       "  <tbody>\n",
       "    <tr>\n",
       "      <th>count</th>\n",
       "      <td>1000</td>\n",
       "      <td>1000.000000</td>\n",
       "      <td>0.0</td>\n",
       "      <td>0.0</td>\n",
       "      <td>0.0</td>\n",
       "      <td>0.0</td>\n",
       "      <td>0.0</td>\n",
       "      <td>0.0</td>\n",
       "      <td>0.0</td>\n",
       "      <td>0.0</td>\n",
       "    </tr>\n",
       "    <tr>\n",
       "      <th>mean</th>\n",
       "      <td>2020-11-06 21:07:12</td>\n",
       "      <td>3.551000</td>\n",
       "      <td>NaN</td>\n",
       "      <td>NaN</td>\n",
       "      <td>NaN</td>\n",
       "      <td>NaN</td>\n",
       "      <td>NaN</td>\n",
       "      <td>NaN</td>\n",
       "      <td>NaN</td>\n",
       "      <td>NaN</td>\n",
       "    </tr>\n",
       "    <tr>\n",
       "      <th>min</th>\n",
       "      <td>2019-01-02 00:00:00</td>\n",
       "      <td>1.000000</td>\n",
       "      <td>NaN</td>\n",
       "      <td>NaN</td>\n",
       "      <td>NaN</td>\n",
       "      <td>NaN</td>\n",
       "      <td>NaN</td>\n",
       "      <td>NaN</td>\n",
       "      <td>NaN</td>\n",
       "      <td>NaN</td>\n",
       "    </tr>\n",
       "    <tr>\n",
       "      <th>25%</th>\n",
       "      <td>2019-12-17 00:00:00</td>\n",
       "      <td>2.000000</td>\n",
       "      <td>NaN</td>\n",
       "      <td>NaN</td>\n",
       "      <td>NaN</td>\n",
       "      <td>NaN</td>\n",
       "      <td>NaN</td>\n",
       "      <td>NaN</td>\n",
       "      <td>NaN</td>\n",
       "      <td>NaN</td>\n",
       "    </tr>\n",
       "    <tr>\n",
       "      <th>50%</th>\n",
       "      <td>2020-12-02 12:00:00</td>\n",
       "      <td>4.000000</td>\n",
       "      <td>NaN</td>\n",
       "      <td>NaN</td>\n",
       "      <td>NaN</td>\n",
       "      <td>NaN</td>\n",
       "      <td>NaN</td>\n",
       "      <td>NaN</td>\n",
       "      <td>NaN</td>\n",
       "      <td>NaN</td>\n",
       "    </tr>\n",
       "    <tr>\n",
       "      <th>75%</th>\n",
       "      <td>2021-10-02 06:00:00</td>\n",
       "      <td>5.000000</td>\n",
       "      <td>NaN</td>\n",
       "      <td>NaN</td>\n",
       "      <td>NaN</td>\n",
       "      <td>NaN</td>\n",
       "      <td>NaN</td>\n",
       "      <td>NaN</td>\n",
       "      <td>NaN</td>\n",
       "      <td>NaN</td>\n",
       "    </tr>\n",
       "    <tr>\n",
       "      <th>max</th>\n",
       "      <td>2022-08-19 00:00:00</td>\n",
       "      <td>6.000000</td>\n",
       "      <td>NaN</td>\n",
       "      <td>NaN</td>\n",
       "      <td>NaN</td>\n",
       "      <td>NaN</td>\n",
       "      <td>NaN</td>\n",
       "      <td>NaN</td>\n",
       "      <td>NaN</td>\n",
       "      <td>NaN</td>\n",
       "    </tr>\n",
       "    <tr>\n",
       "      <th>std</th>\n",
       "      <td>NaN</td>\n",
       "      <td>1.681733</td>\n",
       "      <td>NaN</td>\n",
       "      <td>NaN</td>\n",
       "      <td>NaN</td>\n",
       "      <td>NaN</td>\n",
       "      <td>NaN</td>\n",
       "      <td>NaN</td>\n",
       "      <td>NaN</td>\n",
       "      <td>NaN</td>\n",
       "    </tr>\n",
       "  </tbody>\n",
       "</table>\n",
       "</div>"
      ],
      "text/plain": [
       "                Order Date     Quantity  Customer Name  Email  Country  \\\n",
       "count                 1000  1000.000000            0.0    0.0      0.0   \n",
       "mean   2020-11-06 21:07:12     3.551000            NaN    NaN      NaN   \n",
       "min    2019-01-02 00:00:00     1.000000            NaN    NaN      NaN   \n",
       "25%    2019-12-17 00:00:00     2.000000            NaN    NaN      NaN   \n",
       "50%    2020-12-02 12:00:00     4.000000            NaN    NaN      NaN   \n",
       "75%    2021-10-02 06:00:00     5.000000            NaN    NaN      NaN   \n",
       "max    2022-08-19 00:00:00     6.000000            NaN    NaN      NaN   \n",
       "std                    NaN     1.681733            NaN    NaN      NaN   \n",
       "\n",
       "       Coffee Type  Roast Type  Size  Unit Price  Sales  \n",
       "count          0.0         0.0   0.0         0.0    0.0  \n",
       "mean           NaN         NaN   NaN         NaN    NaN  \n",
       "min            NaN         NaN   NaN         NaN    NaN  \n",
       "25%            NaN         NaN   NaN         NaN    NaN  \n",
       "50%            NaN         NaN   NaN         NaN    NaN  \n",
       "75%            NaN         NaN   NaN         NaN    NaN  \n",
       "max            NaN         NaN   NaN         NaN    NaN  \n",
       "std            NaN         NaN   NaN         NaN    NaN  "
      ]
     },
     "execution_count": 76,
     "metadata": {},
     "output_type": "execute_result"
    }
   ],
   "source": [
    "orders.describe()"
   ]
  },
  {
   "cell_type": "code",
   "execution_count": 77,
   "id": "5063ad0f-dc77-48c9-a690-fd24ff0ef74f",
   "metadata": {},
   "outputs": [
    {
     "data": {
      "text/html": [
       "<div>\n",
       "<style scoped>\n",
       "    .dataframe tbody tr th:only-of-type {\n",
       "        vertical-align: middle;\n",
       "    }\n",
       "\n",
       "    .dataframe tbody tr th {\n",
       "        vertical-align: top;\n",
       "    }\n",
       "\n",
       "    .dataframe thead th {\n",
       "        text-align: right;\n",
       "    }\n",
       "</style>\n",
       "<table border=\"1\" class=\"dataframe\">\n",
       "  <thead>\n",
       "    <tr style=\"text-align: right;\">\n",
       "      <th></th>\n",
       "      <th>Size</th>\n",
       "      <th>Unit Price</th>\n",
       "      <th>Price per 100g</th>\n",
       "      <th>Profit</th>\n",
       "    </tr>\n",
       "  </thead>\n",
       "  <tbody>\n",
       "    <tr>\n",
       "      <th>count</th>\n",
       "      <td>48.000000</td>\n",
       "      <td>48.000000</td>\n",
       "      <td>48.000000</td>\n",
       "      <td>48.000000</td>\n",
       "    </tr>\n",
       "    <tr>\n",
       "      <th>mean</th>\n",
       "      <td>1.050000</td>\n",
       "      <td>13.046250</td>\n",
       "      <td>1.435087</td>\n",
       "      <td>1.316219</td>\n",
       "    </tr>\n",
       "    <tr>\n",
       "      <th>std</th>\n",
       "      <td>0.893951</td>\n",
       "      <td>9.953578</td>\n",
       "      <td>0.371981</td>\n",
       "      <td>1.161426</td>\n",
       "    </tr>\n",
       "    <tr>\n",
       "      <th>min</th>\n",
       "      <td>0.200000</td>\n",
       "      <td>2.685000</td>\n",
       "      <td>0.823400</td>\n",
       "      <td>0.161100</td>\n",
       "    </tr>\n",
       "    <tr>\n",
       "      <th>25%</th>\n",
       "      <td>0.425000</td>\n",
       "      <td>5.216250</td>\n",
       "      <td>1.191400</td>\n",
       "      <td>0.501300</td>\n",
       "    </tr>\n",
       "    <tr>\n",
       "      <th>50%</th>\n",
       "      <td>0.750000</td>\n",
       "      <td>9.230000</td>\n",
       "      <td>1.370600</td>\n",
       "      <td>0.943800</td>\n",
       "    </tr>\n",
       "    <tr>\n",
       "      <th>75%</th>\n",
       "      <td>1.375000</td>\n",
       "      <td>17.033750</td>\n",
       "      <td>1.659375</td>\n",
       "      <td>1.657700</td>\n",
       "    </tr>\n",
       "    <tr>\n",
       "      <th>max</th>\n",
       "      <td>2.500000</td>\n",
       "      <td>36.455000</td>\n",
       "      <td>2.377500</td>\n",
       "      <td>4.739150</td>\n",
       "    </tr>\n",
       "  </tbody>\n",
       "</table>\n",
       "</div>"
      ],
      "text/plain": [
       "            Size  Unit Price  Price per 100g     Profit\n",
       "count  48.000000   48.000000       48.000000  48.000000\n",
       "mean    1.050000   13.046250        1.435087   1.316219\n",
       "std     0.893951    9.953578        0.371981   1.161426\n",
       "min     0.200000    2.685000        0.823400   0.161100\n",
       "25%     0.425000    5.216250        1.191400   0.501300\n",
       "50%     0.750000    9.230000        1.370600   0.943800\n",
       "75%     1.375000   17.033750        1.659375   1.657700\n",
       "max     2.500000   36.455000        2.377500   4.739150"
      ]
     },
     "execution_count": 77,
     "metadata": {},
     "output_type": "execute_result"
    }
   ],
   "source": [
    "products.describe()"
   ]
  },
  {
   "cell_type": "markdown",
   "id": "b77edea7-47f3-4785-8a59-a5fdadd9b3ee",
   "metadata": {},
   "source": [
    "Объединяем датафреймы."
   ]
  },
  {
   "cell_type": "code",
   "execution_count": 79,
   "id": "ccad52c2-c107-4a67-8be8-4c0e9689b6a9",
   "metadata": {},
   "outputs": [],
   "source": [
    "sales = orders[['Order ID', 'Order Date', 'Customer ID', 'Product ID', 'Quantity']].merge(customers, on='Customer ID', how='left')\\\n",
    "        .merge(products, on='Product ID', how='left')"
   ]
  },
  {
   "cell_type": "markdown",
   "id": "1ac3ef1f-7ce6-48f5-80e0-4ab8118306f7",
   "metadata": {},
   "source": [
    "Нужно определить, какой тип кофе самый прибыльный, и предположить, как можно было бы оптимизировать цены."
   ]
  },
  {
   "cell_type": "markdown",
   "id": "6402b989-93ad-4313-a63f-8d1714ca0276",
   "metadata": {},
   "source": [
    "Посмотрим на количество заказов с течением времени для каждого типа кофе."
   ]
  },
  {
   "cell_type": "code",
   "execution_count": 82,
   "id": "fbe3a457-3742-4044-9b18-73251825a759",
   "metadata": {},
   "outputs": [
    {
     "data": {
      "image/png": "[encoded data removed]",
      "text/plain": [
       "<Figure size 1600x900 with 4 Axes>"
      ]
     },
     "metadata": {},
     "output_type": "display_data"
    }
   ],
   "source": [
    "plt.figure(figsize=(16, 9))\n",
    "plt.subplot(2, 2, 1)\n",
    "sns.histplot(sales.loc[sales['Coffee Type']=='Ara', 'Order Date'].dt.to_period('M').dt.to_timestamp(), bins=25)\n",
    "plt.title('Ara')\n",
    "plt.subplot(2, 2, 2)\n",
    "sns.histplot(sales.loc[sales['Coffee Type']=='Exc', 'Order Date'].dt.to_period('M').dt.to_timestamp(), bins=25)\n",
    "plt.title('Exc')\n",
    "plt.subplot(2, 2, 3)\n",
    "sns.histplot(sales.loc[sales['Coffee Type']=='Lib', 'Order Date'].dt.to_period('M').dt.to_timestamp(), bins=25)\n",
    "plt.title('Lib')\n",
    "plt.subplot(2, 2, 4)\n",
    "sns.histplot(sales.loc[sales['Coffee Type']=='Rob', 'Order Date'].dt.to_period('M').dt.to_timestamp(), bins=25)\n",
    "plt.title('Rob')\n",
    "plt.tight_layout()"
   ]
  },
  {
   "cell_type": "markdown",
   "id": "78239e7a-3f2c-4f95-a3a4-4ed89e318642",
   "metadata": {},
   "source": [
    "У нас есть колонка \"Profit\", которая содержит прибыль, которую мы получаем с продажи единицы товара.\n",
    "Посчитаем, чему равна прибыль относительно цены для каждого типа кофе."
   ]
  },
  {
   "cell_type": "code",
   "execution_count": 84,
   "id": "d48cd8d9-cc62-4dec-b771-18decdd2ce52",
   "metadata": {},
   "outputs": [
    {
     "data": {
      "text/html": [
       "<div>\n",
       "<style scoped>\n",
       "    .dataframe tbody tr th:only-of-type {\n",
       "        vertical-align: middle;\n",
       "    }\n",
       "\n",
       "    .dataframe tbody tr th {\n",
       "        vertical-align: top;\n",
       "    }\n",
       "\n",
       "    .dataframe thead th {\n",
       "        text-align: right;\n",
       "    }\n",
       "</style>\n",
       "<table border=\"1\" class=\"dataframe\">\n",
       "  <thead>\n",
       "    <tr style=\"text-align: right;\">\n",
       "      <th></th>\n",
       "      <th>Coffee Type</th>\n",
       "      <th>Profit_margin</th>\n",
       "    </tr>\n",
       "  </thead>\n",
       "  <tbody>\n",
       "    <tr>\n",
       "      <th>0</th>\n",
       "      <td>Ara</td>\n",
       "      <td>0.09</td>\n",
       "    </tr>\n",
       "    <tr>\n",
       "      <th>1</th>\n",
       "      <td>Exc</td>\n",
       "      <td>0.11</td>\n",
       "    </tr>\n",
       "    <tr>\n",
       "      <th>2</th>\n",
       "      <td>Lib</td>\n",
       "      <td>0.13</td>\n",
       "    </tr>\n",
       "    <tr>\n",
       "      <th>3</th>\n",
       "      <td>Rob</td>\n",
       "      <td>0.06</td>\n",
       "    </tr>\n",
       "  </tbody>\n",
       "</table>\n",
       "</div>"
      ],
      "text/plain": [
       "  Coffee Type  Profit_margin\n",
       "0         Ara           0.09\n",
       "1         Exc           0.11\n",
       "2         Lib           0.13\n",
       "3         Rob           0.06"
      ]
     },
     "execution_count": 84,
     "metadata": {},
     "output_type": "execute_result"
    }
   ],
   "source": [
    "products['Profit_margin'] = products['Profit']/products['Unit Price']\n",
    "products.groupby('Coffee Type', as_index=False).Profit_margin.max()"
   ]
  },
  {
   "cell_type": "markdown",
   "id": "3d24cb2e-f25c-4588-aec4-6c13f26d3894",
   "metadata": {},
   "source": [
    "Посмотрим на количество проданных упаковок в зависимости от типа кофе."
   ]
  },
  {
   "cell_type": "code",
   "execution_count": 86,
   "id": "4c7964b1-df87-47d4-9055-7cfc20751e17",
   "metadata": {},
   "outputs": [
    {
     "data": {
      "text/html": [
       "<div>\n",
       "<style scoped>\n",
       "    .dataframe tbody tr th:only-of-type {\n",
       "        vertical-align: middle;\n",
       "    }\n",
       "\n",
       "    .dataframe tbody tr th {\n",
       "        vertical-align: top;\n",
       "    }\n",
       "\n",
       "    .dataframe thead th {\n",
       "        text-align: right;\n",
       "    }\n",
       "</style>\n",
       "<table border=\"1\" class=\"dataframe\">\n",
       "  <thead>\n",
       "    <tr style=\"text-align: right;\">\n",
       "      <th></th>\n",
       "      <th>Coffee Type</th>\n",
       "      <th>Quantity</th>\n",
       "    </tr>\n",
       "  </thead>\n",
       "  <tbody>\n",
       "    <tr>\n",
       "      <th>0</th>\n",
       "      <td>Ara</td>\n",
       "      <td>947</td>\n",
       "    </tr>\n",
       "    <tr>\n",
       "      <th>1</th>\n",
       "      <td>Exc</td>\n",
       "      <td>872</td>\n",
       "    </tr>\n",
       "    <tr>\n",
       "      <th>2</th>\n",
       "      <td>Lib</td>\n",
       "      <td>854</td>\n",
       "    </tr>\n",
       "    <tr>\n",
       "      <th>3</th>\n",
       "      <td>Rob</td>\n",
       "      <td>878</td>\n",
       "    </tr>\n",
       "  </tbody>\n",
       "</table>\n",
       "</div>"
      ],
      "text/plain": [
       "  Coffee Type  Quantity\n",
       "0         Ara       947\n",
       "1         Exc       872\n",
       "2         Lib       854\n",
       "3         Rob       878"
      ]
     },
     "execution_count": 86,
     "metadata": {},
     "output_type": "execute_result"
    }
   ],
   "source": [
    "quantity = sales.groupby('Coffee Type', as_index=False).Quantity.sum()\n",
    "quantity"
   ]
  },
  {
   "cell_type": "code",
   "execution_count": 87,
   "id": "ddff6b24-44c3-44dd-8a54-be3303ec1912",
   "metadata": {},
   "outputs": [
    {
     "data": {
      "text/plain": [
       "<Axes: xlabel='Coffee Type', ylabel='Quantity'>"
      ]
     },
     "execution_count": 87,
     "metadata": {},
     "output_type": "execute_result"
    },
    {
     "data": {
      "image/png": "[encoded data removed]",
      "text/plain": [
       "<Figure size 640x480 with 1 Axes>"
      ]
     },
     "metadata": {},
     "output_type": "display_data"
    }
   ],
   "source": [
    "sns.barplot(x=quantity['Coffee Type'], y=quantity['Quantity'])"
   ]
  },
  {
   "cell_type": "markdown",
   "id": "47f407f3-e698-41c0-b943-edcaabbc87d5",
   "metadata": {},
   "source": [
    "Посмотрим на общую прибыль для каждого типа кофе."
   ]
  },
  {
   "cell_type": "code",
   "execution_count": 89,
   "id": "f0e3ba91-7ec2-4269-a11e-49c70c7c5935",
   "metadata": {},
   "outputs": [],
   "source": [
    "sales['Total_profit'] = sales['Quantity']*sales['Profit']"
   ]
  },
  {
   "cell_type": "code",
   "execution_count": 90,
   "id": "f60a95a4-bcc4-41e4-91a9-2dc89ce1fbab",
   "metadata": {},
   "outputs": [
    {
     "data": {
      "text/html": [
       "<div>\n",
       "<style scoped>\n",
       "    .dataframe tbody tr th:only-of-type {\n",
       "        vertical-align: middle;\n",
       "    }\n",
       "\n",
       "    .dataframe tbody tr th {\n",
       "        vertical-align: top;\n",
       "    }\n",
       "\n",
       "    .dataframe thead th {\n",
       "        text-align: right;\n",
       "    }\n",
       "</style>\n",
       "<table border=\"1\" class=\"dataframe\">\n",
       "  <thead>\n",
       "    <tr style=\"text-align: right;\">\n",
       "      <th></th>\n",
       "      <th>Coffee Type</th>\n",
       "      <th>Total_profit</th>\n",
       "    </tr>\n",
       "  </thead>\n",
       "  <tbody>\n",
       "    <tr>\n",
       "      <th>0</th>\n",
       "      <td>Ara</td>\n",
       "      <td>1059.16455</td>\n",
       "    </tr>\n",
       "    <tr>\n",
       "      <th>1</th>\n",
       "      <td>Exc</td>\n",
       "      <td>1353.70840</td>\n",
       "    </tr>\n",
       "    <tr>\n",
       "      <th>2</th>\n",
       "      <td>Lib</td>\n",
       "      <td>1567.02975</td>\n",
       "    </tr>\n",
       "    <tr>\n",
       "      <th>3</th>\n",
       "      <td>Rob</td>\n",
       "      <td>540.31470</td>\n",
       "    </tr>\n",
       "  </tbody>\n",
       "</table>\n",
       "</div>"
      ],
      "text/plain": [
       "  Coffee Type  Total_profit\n",
       "0         Ara    1059.16455\n",
       "1         Exc    1353.70840\n",
       "2         Lib    1567.02975\n",
       "3         Rob     540.31470"
      ]
     },
     "execution_count": 90,
     "metadata": {},
     "output_type": "execute_result"
    }
   ],
   "source": [
    "profit_sum = sales.groupby('Coffee Type', as_index=False).Total_profit.sum()\n",
    "profit_sum"
   ]
  },
  {
   "cell_type": "code",
   "execution_count": 91,
   "id": "b0e75cb8-f41a-49c9-a1e5-7840ac48583f",
   "metadata": {},
   "outputs": [
    {
     "data": {
      "text/plain": [
       "<Axes: xlabel='Coffee Type', ylabel='Total_profit'>"
      ]
     },
     "execution_count": 91,
     "metadata": {},
     "output_type": "execute_result"
    },
    {
     "data": {
      "image/png": "[encoded data removed]",
      "text/plain": [
       "<Figure size 640x480 with 1 Axes>"
      ]
     },
     "metadata": {},
     "output_type": "display_data"
    }
   ],
   "source": [
    "sns.barplot(x=profit_sum['Coffee Type'], y=profit_sum['Total_profit'])"
   ]
  },
  {
   "cell_type": "markdown",
   "id": "287255eb-4ccc-4df8-9b46-cf0c3c593358",
   "metadata": {},
   "source": [
    "Теперь посмотрим на средний чек для каждого типа кофе."
   ]
  },
  {
   "cell_type": "code",
   "execution_count": 93,
   "id": "0bb16067-2e53-4d1e-976e-35fa37a3c33c",
   "metadata": {},
   "outputs": [],
   "source": [
    "sales['Check'] = sales['Quantity']*sales['Unit Price']"
   ]
  },
  {
   "cell_type": "code",
   "execution_count": 94,
   "id": "d4b9ec47-896a-4d09-8144-50edfe9cb1de",
   "metadata": {},
   "outputs": [
    {
     "data": {
      "text/html": [
       "<div>\n",
       "<style scoped>\n",
       "    .dataframe tbody tr th:only-of-type {\n",
       "        vertical-align: middle;\n",
       "    }\n",
       "\n",
       "    .dataframe tbody tr th {\n",
       "        vertical-align: top;\n",
       "    }\n",
       "\n",
       "    .dataframe thead th {\n",
       "        text-align: right;\n",
       "    }\n",
       "</style>\n",
       "<table border=\"1\" class=\"dataframe\">\n",
       "  <thead>\n",
       "    <tr style=\"text-align: right;\">\n",
       "      <th></th>\n",
       "      <th>Coffee Type</th>\n",
       "      <th>Check</th>\n",
       "    </tr>\n",
       "  </thead>\n",
       "  <tbody>\n",
       "    <tr>\n",
       "      <th>0</th>\n",
       "      <td>Ara</td>\n",
       "      <td>44.577633</td>\n",
       "    </tr>\n",
       "    <tr>\n",
       "      <th>1</th>\n",
       "      <td>Exc</td>\n",
       "      <td>49.823644</td>\n",
       "    </tr>\n",
       "    <tr>\n",
       "      <th>2</th>\n",
       "      <td>Lib</td>\n",
       "      <td>48.605141</td>\n",
       "    </tr>\n",
       "    <tr>\n",
       "      <th>3</th>\n",
       "      <td>Rob</td>\n",
       "      <td>37.366162</td>\n",
       "    </tr>\n",
       "  </tbody>\n",
       "</table>\n",
       "</div>"
      ],
      "text/plain": [
       "  Coffee Type      Check\n",
       "0         Ara  44.577633\n",
       "1         Exc  49.823644\n",
       "2         Lib  48.605141\n",
       "3         Rob  37.366162"
      ]
     },
     "execution_count": 94,
     "metadata": {},
     "output_type": "execute_result"
    }
   ],
   "source": [
    "average_check = sales.groupby('Coffee Type', as_index=False)['Check'].mean()\n",
    "average_check"
   ]
  },
  {
   "cell_type": "code",
   "execution_count": 95,
   "id": "76bb144a-0798-4aab-97c5-0fa60b0c3f57",
   "metadata": {},
   "outputs": [
    {
     "data": {
      "text/plain": [
       "<Axes: xlabel='Coffee Type', ylabel='Check'>"
      ]
     },
     "execution_count": 95,
     "metadata": {},
     "output_type": "execute_result"
    },
    {
     "data": {
      "image/png": "[encoded data removed]",
      "text/plain": [
       "<Figure size 640x480 with 1 Axes>"
      ]
     },
     "metadata": {},
     "output_type": "display_data"
    }
   ],
   "source": [
    "sns.barplot(x=average_check['Coffee Type'], y=average_check['Check'])"
   ]
  },
  {
   "cell_type": "markdown",
   "id": "902f1dba-e619-403e-a7a7-0e233eba8bbb",
   "metadata": {},
   "source": [
    "Итак, мы видим, что самый прибыльный тип кофе - 'Lib'. Меньше всего прибыли приносит кофе 'Rob'.\n",
    "Можем заметить, что маржинальность кофе 'Ara' также сравнительно небольшая, при том что он лидирует по количеству покупок. Таким образом, мы можем сделать предположение о том, что повышение цен на кофе 'Ara' принесет больше прибыли, поскольку этот продукт самый популярный и, возможно, покупатели, которые не готовы платить за 'Ara' больше, станут покупать кофе 'Rob'. Необходимо протестировать ценовые изменения и оценить  реакцию на рынке."
   ]
  },
  {
   "cell_type": "code",
   "execution_count": 104,
   "id": "fb35369b-5dd2-475a-a1db-b7cc21dfd971",
   "metadata": {},
   "outputs": [],
   "source": [
    "sales.to_csv('sales.csv', index=False)"
   ]
  }
 ],
 "metadata": {
  "kernelspec": {
   "display_name": "Python 3 (ipykernel)",
   "language": "python",
   "name": "python3"
  },
  "language_info": {
   "codemirror_mode": {
    "name": "ipython",
    "version": 3
   },
   "file_extension": ".py",
   "mimetype": "text/x-python",
   "name": "python",
   "nbconvert_exporter": "python",
   "pygments_lexer": "ipython3",
   "version": "3.12.4"
  }
 },
 "nbformat": 4,
 "nbformat_minor": 5
}
